{
    "cells": [
        {
            "cell_type": "markdown",
            "metadata": {},
            "source": [
                "# Download and prepare background noise"
            ]
        },
        {
            "cell_type": "code",
            "execution_count": 3,
            "metadata": {},
            "outputs": [
                {
                    "data": {
                        "application/vnd.jupyter.widget-view+json": {
                            "model_id": "e95580bba3d747919f4e8337ce3a82ae",
                            "version_major": 2,
                            "version_minor": 0
                        },
                        "text/plain": [
                            "Downloading (…)18_shard_0001.tar.gz:   0%|          | 0.00/524M [00:00<?, ?B/s]"
                        ]
                    },
                    "metadata": {},
                    "output_type": "display_data"
                },
                {
                    "data": {
                        "application/vnd.jupyter.widget-view+json": {
                            "model_id": "dc1ad41ae4304dfe8952b12e04db3360",
                            "version_major": 2,
                            "version_minor": 0
                        },
                        "text/plain": [
                            "Downloading (…)18_shard_0002.tar.gz:   0%|          | 0.00/525M [00:00<?, ?B/s]"
                        ]
                    },
                    "metadata": {},
                    "output_type": "display_data"
                },
                {
                    "data": {
                        "application/vnd.jupyter.widget-view+json": {
                            "model_id": "a68e93803737419da0a0420e08a67a5f",
                            "version_major": 2,
                            "version_minor": 0
                        },
                        "text/plain": [
                            "Downloading (…)18_shard_0003.tar.gz:   0%|          | 0.00/20.6M [00:00<?, ?B/s]"
                        ]
                    },
                    "metadata": {},
                    "output_type": "display_data"
                }
            ],
            "source": [
                "from huggingface_hub import hf_hub_download\n",
                " \n",
                "repo_id = \"DBD-research-group/gadme_v1\"  # Replace with the repository ID\n",
                "filenames = [\"dcase18_shard_0001.tar.gz\", \"dcase18_shard_0002.tar.gz\", \"dcase18_shard_0003.tar.gz\"]  # Replace with the path to the file in the repository\n",
                "subfolder = \"data/dcase18\"\n",
                "revision = \"data\"\n",
                "local_dir = \"/workspace/data_birdset/dcase18\"  # Replace with the local directory where the file will be downloaded\n",
                "repo_type = \"dataset\"\n",
                "# Download the file\n",
                "for filename in filenames:\n",
                "    file_path = hf_hub_download(\n",
                "        repo_id=repo_id,\n",
                "        filename=filename,\n",
                "        subfolder=subfolder,\n",
                "        local_dir=local_dir,\n",
                "        revision=revision,\n",
                "        repo_type=repo_type,\n",
                "        local_dir_use_symlinks=False,\n",
                "        force_download=True)"
            ]
        },
        {
            "cell_type": "code",
            "execution_count": 4,
            "metadata": {},
            "outputs": [
                {
                    "name": "stdout",
                    "output_type": "stream",
                    "text": [
                        "Extraction complete.\n"
                    ]
                }
            ],
            "source": [
                "import tarfile\n",
                "import os\n",
                "os.chdir(\"/workspace/data_birdset/dcase18/data/dcase18/\")\n",
                " \n",
                "# The directory where you want to extract the files\n",
                "output_directory =\"/workspace/data_birdset/background_noise/dcase18_unpacked/\"\n",
                " \n",
                "# Create the output directory if it doesn't exist\n",
                "if not os.path.exists(output_directory):\n",
                "    os.makedirs(output_directory)\n",
                " \n",
                "# Iterate through the files and extract each one\n",
                "for filename in filenames:\n",
                "    with tarfile.open(filename, \"r:gz\") as tar:\n",
                "        tar.extractall(path=output_directory)\n",
                " \n",
                "print(\"Extraction complete.\")"
            ]
        },
        {
            "cell_type": "code",
            "execution_count": 6,
            "metadata": {},
            "outputs": [],
            "source": [
                "from pydub import AudioSegment\n",
                "import os\n",
                "\n",
                "def ogg2wav(filepath, output_directory):\n",
                "    audio = AudioSegment.from_ogg(filepath)\n",
                "    # get filename without extension\n",
                "    filename = os.path.splitext(os.path.basename(filepath))[0]\n",
                "    # save wav file\n",
                "    audio.export(os.path.join(output_directory, filename + \".wav\"), format=\"wav\")\n",
                "\n",
                "# The directory where the audio files are stored\n",
                "input_directory = \"/workspace/data_birdset/background_noise/dcase18_unpacked/\"\n",
                "output_directory = \"/workspace/data_birdset/background_noise/\"\n",
                "\n",
                "# Iterate through the files and convert each one\n",
                "for root, dirs, files in os.walk(input_directory):\n",
                "    for file in files:\n",
                "        if file.endswith('.ogg'):\n",
                "            ogg2wav(os.path.join(root, file), output_directory)\n"
            ]
        }
    ],
    "metadata": {
        "kernelspec": {
            "display_name": "birdset-xS3fZVNL-py3.10",
            "language": "python",
            "name": "python3"
        },
        "language_info": {
            "codemirror_mode": {
                "name": "ipython",
                "version": 3
            },
            "file_extension": ".py",
            "mimetype": "text/x-python",
            "name": "python",
            "nbconvert_exporter": "python",
            "pygments_lexer": "ipython3",
            "version": "3.10.12"
        }
    },
    "nbformat": 4,
    "nbformat_minor": 2
}
